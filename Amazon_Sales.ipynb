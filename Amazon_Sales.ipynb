{
 "cells": [
  {
   "cell_type": "code",
   "execution_count": 1,
   "id": "103a4067-4ced-43d2-9cf1-9fd1f1da50eb",
   "metadata": {},
   "outputs": [],
   "source": [
    "import numpy as np\n",
    "import pandas as pd\n",
    "import seaborn as sns\n",
    "import matplotlib.pyplot as plt\n",
    "import scipy as sp\n",
    "%matplotlib inline"
   ]
  },
  {
   "cell_type": "code",
   "execution_count": 2,
   "id": "357db297-9357-45d6-88cd-efbf5761d027",
   "metadata": {},
   "outputs": [],
   "source": [
    "df=pd.read_csv(r'C:\\Users\\vasud\\OneDrive\\DS & ML\\amazon.csv')\n"
   ]
  },
  {
   "cell_type": "code",
   "execution_count": 3,
   "id": "626674ce-b94a-4d72-9e99-8780fb9ef250",
   "metadata": {},
   "outputs": [],
   "source": [
    "pd.set_option('display.max_column',None)"
   ]
  },
  {
   "cell_type": "code",
   "execution_count": 4,
   "id": "fe4e5bee-2d6f-469d-992e-d82508430971",
   "metadata": {},
   "outputs": [
    {
     "data": {
      "text/html": [
       "<div>\n",
       "<style scoped>\n",
       "    .dataframe tbody tr th:only-of-type {\n",
       "        vertical-align: middle;\n",
       "    }\n",
       "\n",
       "    .dataframe tbody tr th {\n",
       "        vertical-align: top;\n",
       "    }\n",
       "\n",
       "    .dataframe thead th {\n",
       "        text-align: right;\n",
       "    }\n",
       "</style>\n",
       "<table border=\"1\" class=\"dataframe\">\n",
       "  <thead>\n",
       "    <tr style=\"text-align: right;\">\n",
       "      <th></th>\n",
       "      <th>product_id</th>\n",
       "      <th>product_name</th>\n",
       "      <th>category</th>\n",
       "      <th>discounted_price</th>\n",
       "      <th>actual_price</th>\n",
       "      <th>discount_percentage</th>\n",
       "      <th>rating</th>\n",
       "      <th>rating_count</th>\n",
       "      <th>about_product</th>\n",
       "      <th>user_id</th>\n",
       "      <th>user_name</th>\n",
       "      <th>review_id</th>\n",
       "      <th>review_title</th>\n",
       "      <th>review_content</th>\n",
       "      <th>img_link</th>\n",
       "      <th>product_link</th>\n",
       "    </tr>\n",
       "  </thead>\n",
       "  <tbody>\n",
       "    <tr>\n",
       "      <th>0</th>\n",
       "      <td>B07JW9H4J1</td>\n",
       "      <td>Wayona Nylon Braided USB to Lightning Fast Cha...</td>\n",
       "      <td>Computers&amp;Accessories|Accessories&amp;Peripherals|...</td>\n",
       "      <td>₹399</td>\n",
       "      <td>₹1,099</td>\n",
       "      <td>64%</td>\n",
       "      <td>4.2</td>\n",
       "      <td>24,269</td>\n",
       "      <td>High Compatibility : Compatible With iPhone 12...</td>\n",
       "      <td>AG3D6O4STAQKAY2UVGEUV46KN35Q,AHMY5CWJMMK5BJRBB...</td>\n",
       "      <td>Manav,Adarsh gupta,Sundeep,S.Sayeed Ahmed,jasp...</td>\n",
       "      <td>R3HXWT0LRP0NMF,R2AJM3LFTLZHFO,R6AQJGUP6P86,R1K...</td>\n",
       "      <td>Satisfied,Charging is really fast,Value for mo...</td>\n",
       "      <td>Looks durable Charging is fine tooNo complains...</td>\n",
       "      <td>https://m.media-amazon.com/images/W/WEBP_40237...</td>\n",
       "      <td>https://www.amazon.in/Wayona-Braided-WN3LG1-Sy...</td>\n",
       "    </tr>\n",
       "    <tr>\n",
       "      <th>1</th>\n",
       "      <td>B098NS6PVG</td>\n",
       "      <td>Ambrane Unbreakable 60W / 3A Fast Charging 1.5...</td>\n",
       "      <td>Computers&amp;Accessories|Accessories&amp;Peripherals|...</td>\n",
       "      <td>₹199</td>\n",
       "      <td>₹349</td>\n",
       "      <td>43%</td>\n",
       "      <td>4.0</td>\n",
       "      <td>43,994</td>\n",
       "      <td>Compatible with all Type C enabled devices, be...</td>\n",
       "      <td>AECPFYFQVRUWC3KGNLJIOREFP5LQ,AGYYVPDD7YG7FYNBX...</td>\n",
       "      <td>ArdKn,Nirbhay kumar,Sagar Viswanathan,Asp,Plac...</td>\n",
       "      <td>RGIQEG07R9HS2,R1SMWZQ86XIN8U,R2J3Y1WL29GWDE,RY...</td>\n",
       "      <td>A Good Braided Cable for Your Type C Device,Go...</td>\n",
       "      <td>I ordered this cable to connect my phone to An...</td>\n",
       "      <td>https://m.media-amazon.com/images/W/WEBP_40237...</td>\n",
       "      <td>https://www.amazon.in/Ambrane-Unbreakable-Char...</td>\n",
       "    </tr>\n",
       "    <tr>\n",
       "      <th>2</th>\n",
       "      <td>B096MSW6CT</td>\n",
       "      <td>Sounce Fast Phone Charging Cable &amp; Data Sync U...</td>\n",
       "      <td>Computers&amp;Accessories|Accessories&amp;Peripherals|...</td>\n",
       "      <td>₹199</td>\n",
       "      <td>₹1,899</td>\n",
       "      <td>90%</td>\n",
       "      <td>3.9</td>\n",
       "      <td>7,928</td>\n",
       "      <td>【 Fast Charger&amp; Data Sync】-With built-in safet...</td>\n",
       "      <td>AGU3BBQ2V2DDAMOAKGFAWDDQ6QHA,AESFLDV2PT363T2AQ...</td>\n",
       "      <td>Kunal,Himanshu,viswanath,sai niharka,saqib mal...</td>\n",
       "      <td>R3J3EQQ9TZI5ZJ,R3E7WBGK7ID0KV,RWU79XKQ6I1QF,R2...</td>\n",
       "      <td>Good speed for earlier versions,Good Product,W...</td>\n",
       "      <td>Not quite durable and sturdy,https://m.media-a...</td>\n",
       "      <td>https://m.media-amazon.com/images/W/WEBP_40237...</td>\n",
       "      <td>https://www.amazon.in/Sounce-iPhone-Charging-C...</td>\n",
       "    </tr>\n",
       "    <tr>\n",
       "      <th>3</th>\n",
       "      <td>B08HDJ86NZ</td>\n",
       "      <td>boAt Deuce USB 300 2 in 1 Type-C &amp; Micro USB S...</td>\n",
       "      <td>Computers&amp;Accessories|Accessories&amp;Peripherals|...</td>\n",
       "      <td>₹329</td>\n",
       "      <td>₹699</td>\n",
       "      <td>53%</td>\n",
       "      <td>4.2</td>\n",
       "      <td>94,363</td>\n",
       "      <td>The boAt Deuce USB 300 2 in 1 cable is compati...</td>\n",
       "      <td>AEWAZDZZJLQUYVOVGBEUKSLXHQ5A,AG5HTSFRRE6NL3M5S...</td>\n",
       "      <td>Omkar dhale,JD,HEMALATHA,Ajwadh a.,amar singh ...</td>\n",
       "      <td>R3EEUZKKK9J36I,R3HJVYCLYOY554,REDECAZ7AMPQC,R1...</td>\n",
       "      <td>Good product,Good one,Nice,Really nice product...</td>\n",
       "      <td>Good product,long wire,Charges good,Nice,I bou...</td>\n",
       "      <td>https://m.media-amazon.com/images/I/41V5FtEWPk...</td>\n",
       "      <td>https://www.amazon.in/Deuce-300-Resistant-Tang...</td>\n",
       "    </tr>\n",
       "    <tr>\n",
       "      <th>4</th>\n",
       "      <td>B08CF3B7N1</td>\n",
       "      <td>Portronics Konnect L 1.2M Fast Charging 3A 8 P...</td>\n",
       "      <td>Computers&amp;Accessories|Accessories&amp;Peripherals|...</td>\n",
       "      <td>₹154</td>\n",
       "      <td>₹399</td>\n",
       "      <td>61%</td>\n",
       "      <td>4.2</td>\n",
       "      <td>16,905</td>\n",
       "      <td>[CHARGE &amp; SYNC FUNCTION]- This cable comes wit...</td>\n",
       "      <td>AE3Q6KSUK5P75D5HFYHCRAOLODSA,AFUGIFH5ZAFXRDSZH...</td>\n",
       "      <td>rahuls6099,Swasat Borah,Ajay Wadke,Pranali,RVK...</td>\n",
       "      <td>R1BP4L2HH9TFUP,R16PVJEXKV6QZS,R2UPDB81N66T4P,R...</td>\n",
       "      <td>As good as original,Decent,Good one for second...</td>\n",
       "      <td>Bought this instead of original apple, does th...</td>\n",
       "      <td>https://m.media-amazon.com/images/W/WEBP_40237...</td>\n",
       "      <td>https://www.amazon.in/Portronics-Konnect-POR-1...</td>\n",
       "    </tr>\n",
       "  </tbody>\n",
       "</table>\n",
       "</div>"
      ],
      "text/plain": [
       "   product_id                                       product_name  \\\n",
       "0  B07JW9H4J1  Wayona Nylon Braided USB to Lightning Fast Cha...   \n",
       "1  B098NS6PVG  Ambrane Unbreakable 60W / 3A Fast Charging 1.5...   \n",
       "2  B096MSW6CT  Sounce Fast Phone Charging Cable & Data Sync U...   \n",
       "3  B08HDJ86NZ  boAt Deuce USB 300 2 in 1 Type-C & Micro USB S...   \n",
       "4  B08CF3B7N1  Portronics Konnect L 1.2M Fast Charging 3A 8 P...   \n",
       "\n",
       "                                            category discounted_price  \\\n",
       "0  Computers&Accessories|Accessories&Peripherals|...             ₹399   \n",
       "1  Computers&Accessories|Accessories&Peripherals|...             ₹199   \n",
       "2  Computers&Accessories|Accessories&Peripherals|...             ₹199   \n",
       "3  Computers&Accessories|Accessories&Peripherals|...             ₹329   \n",
       "4  Computers&Accessories|Accessories&Peripherals|...             ₹154   \n",
       "\n",
       "  actual_price discount_percentage rating rating_count  \\\n",
       "0       ₹1,099                 64%    4.2       24,269   \n",
       "1         ₹349                 43%    4.0       43,994   \n",
       "2       ₹1,899                 90%    3.9        7,928   \n",
       "3         ₹699                 53%    4.2       94,363   \n",
       "4         ₹399                 61%    4.2       16,905   \n",
       "\n",
       "                                       about_product  \\\n",
       "0  High Compatibility : Compatible With iPhone 12...   \n",
       "1  Compatible with all Type C enabled devices, be...   \n",
       "2  【 Fast Charger& Data Sync】-With built-in safet...   \n",
       "3  The boAt Deuce USB 300 2 in 1 cable is compati...   \n",
       "4  [CHARGE & SYNC FUNCTION]- This cable comes wit...   \n",
       "\n",
       "                                             user_id  \\\n",
       "0  AG3D6O4STAQKAY2UVGEUV46KN35Q,AHMY5CWJMMK5BJRBB...   \n",
       "1  AECPFYFQVRUWC3KGNLJIOREFP5LQ,AGYYVPDD7YG7FYNBX...   \n",
       "2  AGU3BBQ2V2DDAMOAKGFAWDDQ6QHA,AESFLDV2PT363T2AQ...   \n",
       "3  AEWAZDZZJLQUYVOVGBEUKSLXHQ5A,AG5HTSFRRE6NL3M5S...   \n",
       "4  AE3Q6KSUK5P75D5HFYHCRAOLODSA,AFUGIFH5ZAFXRDSZH...   \n",
       "\n",
       "                                           user_name  \\\n",
       "0  Manav,Adarsh gupta,Sundeep,S.Sayeed Ahmed,jasp...   \n",
       "1  ArdKn,Nirbhay kumar,Sagar Viswanathan,Asp,Plac...   \n",
       "2  Kunal,Himanshu,viswanath,sai niharka,saqib mal...   \n",
       "3  Omkar dhale,JD,HEMALATHA,Ajwadh a.,amar singh ...   \n",
       "4  rahuls6099,Swasat Borah,Ajay Wadke,Pranali,RVK...   \n",
       "\n",
       "                                           review_id  \\\n",
       "0  R3HXWT0LRP0NMF,R2AJM3LFTLZHFO,R6AQJGUP6P86,R1K...   \n",
       "1  RGIQEG07R9HS2,R1SMWZQ86XIN8U,R2J3Y1WL29GWDE,RY...   \n",
       "2  R3J3EQQ9TZI5ZJ,R3E7WBGK7ID0KV,RWU79XKQ6I1QF,R2...   \n",
       "3  R3EEUZKKK9J36I,R3HJVYCLYOY554,REDECAZ7AMPQC,R1...   \n",
       "4  R1BP4L2HH9TFUP,R16PVJEXKV6QZS,R2UPDB81N66T4P,R...   \n",
       "\n",
       "                                        review_title  \\\n",
       "0  Satisfied,Charging is really fast,Value for mo...   \n",
       "1  A Good Braided Cable for Your Type C Device,Go...   \n",
       "2  Good speed for earlier versions,Good Product,W...   \n",
       "3  Good product,Good one,Nice,Really nice product...   \n",
       "4  As good as original,Decent,Good one for second...   \n",
       "\n",
       "                                      review_content  \\\n",
       "0  Looks durable Charging is fine tooNo complains...   \n",
       "1  I ordered this cable to connect my phone to An...   \n",
       "2  Not quite durable and sturdy,https://m.media-a...   \n",
       "3  Good product,long wire,Charges good,Nice,I bou...   \n",
       "4  Bought this instead of original apple, does th...   \n",
       "\n",
       "                                            img_link  \\\n",
       "0  https://m.media-amazon.com/images/W/WEBP_40237...   \n",
       "1  https://m.media-amazon.com/images/W/WEBP_40237...   \n",
       "2  https://m.media-amazon.com/images/W/WEBP_40237...   \n",
       "3  https://m.media-amazon.com/images/I/41V5FtEWPk...   \n",
       "4  https://m.media-amazon.com/images/W/WEBP_40237...   \n",
       "\n",
       "                                        product_link  \n",
       "0  https://www.amazon.in/Wayona-Braided-WN3LG1-Sy...  \n",
       "1  https://www.amazon.in/Ambrane-Unbreakable-Char...  \n",
       "2  https://www.amazon.in/Sounce-iPhone-Charging-C...  \n",
       "3  https://www.amazon.in/Deuce-300-Resistant-Tang...  \n",
       "4  https://www.amazon.in/Portronics-Konnect-POR-1...  "
      ]
     },
     "execution_count": 4,
     "metadata": {},
     "output_type": "execute_result"
    }
   ],
   "source": [
    "df.head(5)"
   ]
  },
  {
   "cell_type": "code",
   "execution_count": 5,
   "id": "2467004e-5f00-4964-a3d3-4a6ba6359d75",
   "metadata": {},
   "outputs": [
    {
     "data": {
      "text/plain": [
       "Index(['product_id', 'product_name', 'category', 'discounted_price',\n",
       "       'actual_price', 'discount_percentage', 'rating', 'rating_count',\n",
       "       'about_product', 'user_id', 'user_name', 'review_id', 'review_title',\n",
       "       'review_content', 'img_link', 'product_link'],\n",
       "      dtype='object')"
      ]
     },
     "execution_count": 5,
     "metadata": {},
     "output_type": "execute_result"
    }
   ],
   "source": [
    "df.columns"
   ]
  },
  {
   "cell_type": "code",
   "execution_count": 6,
   "id": "bb5bd785-d39e-42d9-9718-d6e1c5f48b91",
   "metadata": {},
   "outputs": [
    {
     "name": "stdout",
     "output_type": "stream",
     "text": [
      "rows of the table 1465 and columns of the table 16\n"
     ]
    }
   ],
   "source": [
    "print(\"rows of the table\",df.shape[0], \"and columns of the table\",df.shape[1])"
   ]
  },
  {
   "cell_type": "code",
   "execution_count": 7,
   "id": "545bcb14-34b2-498e-b69c-b55c32c5da32",
   "metadata": {},
   "outputs": [
    {
     "name": "stdout",
     "output_type": "stream",
     "text": [
      "<class 'pandas.core.frame.DataFrame'>\n",
      "RangeIndex: 1465 entries, 0 to 1464\n",
      "Data columns (total 16 columns):\n",
      " #   Column               Non-Null Count  Dtype \n",
      "---  ------               --------------  ----- \n",
      " 0   product_id           1465 non-null   object\n",
      " 1   product_name         1465 non-null   object\n",
      " 2   category             1465 non-null   object\n",
      " 3   discounted_price     1465 non-null   object\n",
      " 4   actual_price         1465 non-null   object\n",
      " 5   discount_percentage  1465 non-null   object\n",
      " 6   rating               1465 non-null   object\n",
      " 7   rating_count         1463 non-null   object\n",
      " 8   about_product        1465 non-null   object\n",
      " 9   user_id              1465 non-null   object\n",
      " 10  user_name            1465 non-null   object\n",
      " 11  review_id            1465 non-null   object\n",
      " 12  review_title         1465 non-null   object\n",
      " 13  review_content       1465 non-null   object\n",
      " 14  img_link             1465 non-null   object\n",
      " 15  product_link         1465 non-null   object\n",
      "dtypes: object(16)\n",
      "memory usage: 183.3+ KB\n"
     ]
    }
   ],
   "source": [
    "df.info()"
   ]
  },
  {
   "cell_type": "code",
   "execution_count": 8,
   "id": "d6bd7ddb-9772-4271-86fc-5b23c0ec42ed",
   "metadata": {},
   "outputs": [
    {
     "data": {
      "text/plain": [
       "product_id             0\n",
       "product_name           0\n",
       "category               0\n",
       "discounted_price       0\n",
       "actual_price           0\n",
       "discount_percentage    0\n",
       "rating                 0\n",
       "rating_count           2\n",
       "about_product          0\n",
       "user_id                0\n",
       "user_name              0\n",
       "review_id              0\n",
       "review_title           0\n",
       "review_content         0\n",
       "img_link               0\n",
       "product_link           0\n",
       "dtype: int64"
      ]
     },
     "execution_count": 8,
     "metadata": {},
     "output_type": "execute_result"
    }
   ],
   "source": [
    "df.isnull().sum()"
   ]
  },
  {
   "cell_type": "code",
   "execution_count": 9,
   "id": "ed283b06-20b4-410c-a56b-43562128f85d",
   "metadata": {},
   "outputs": [],
   "source": [
    "df['discounted_price'] = df['discounted_price'].astype(str)\n",
    "df['discounted_price']=df['discounted_price'].str.replace('\\u20B9','')\n",
    "df['discounted_price']=df['discounted_price'].str.replace(',','')\n",
    "df['discounted_price']=df['discounted_price'].astype('float64')\n",
    "\n",
    "df['actual_price'] = df['actual_price'].str.replace(\"\\u20B9\",'')\n",
    "df['actual_price'] = df['actual_price'].str.replace(\",\",'')\n",
    "df['actual_price'] = df['actual_price'].astype('float64')"
   ]
  },
  {
   "cell_type": "code",
   "execution_count": 10,
   "id": "30daa983-5ce1-4637-a7d3-c71db165674d",
   "metadata": {},
   "outputs": [],
   "source": [
    "# df"
   ]
  },
  {
   "cell_type": "code",
   "execution_count": 11,
   "id": "22e7b191-c1b0-4037-b1d1-7bb5834b10db",
   "metadata": {},
   "outputs": [],
   "source": [
    "df['discount_percentage']=df['discount_percentage'].str.replace('%','').astype(float)\n",
    "df['discount_percentage']=df['discount_percentage']/100"
   ]
  },
  {
   "cell_type": "code",
   "execution_count": 12,
   "id": "c53b4c4b-6dd5-467c-b93b-97e2438567b8",
   "metadata": {},
   "outputs": [],
   "source": [
    "# df"
   ]
  },
  {
   "cell_type": "code",
   "execution_count": 13,
   "id": "c91231d4-5c39-4d56-adb5-84c7d4c68128",
   "metadata": {},
   "outputs": [
    {
     "data": {
      "text/plain": [
       "rating\n",
       "4.1    244\n",
       "4.3    230\n",
       "4.2    228\n",
       "4.0    129\n",
       "3.9    123\n",
       "4.4    123\n",
       "3.8     86\n",
       "4.5     75\n",
       "4       52\n",
       "3.7     42\n",
       "3.6     35\n",
       "3.5     26\n",
       "4.6     17\n",
       "3.3     16\n",
       "3.4     10\n",
       "4.7      6\n",
       "3.1      4\n",
       "5.0      3\n",
       "3.0      3\n",
       "4.8      3\n",
       "3.2      2\n",
       "2.8      2\n",
       "2.3      1\n",
       "|        1\n",
       "2        1\n",
       "3        1\n",
       "2.6      1\n",
       "2.9      1\n",
       "Name: count, dtype: int64"
      ]
     },
     "execution_count": 13,
     "metadata": {},
     "output_type": "execute_result"
    }
   ],
   "source": [
    "# Finding unusual string in rating column\n",
    "df['rating'].value_counts()"
   ]
  },
  {
   "cell_type": "code",
   "execution_count": 14,
   "id": "b68bd549-e7f6-4597-bedf-e3810df8652c",
   "metadata": {},
   "outputs": [
    {
     "data": {
      "text/html": [
       "<div>\n",
       "<style scoped>\n",
       "    .dataframe tbody tr th:only-of-type {\n",
       "        vertical-align: middle;\n",
       "    }\n",
       "\n",
       "    .dataframe tbody tr th {\n",
       "        vertical-align: top;\n",
       "    }\n",
       "\n",
       "    .dataframe thead th {\n",
       "        text-align: right;\n",
       "    }\n",
       "</style>\n",
       "<table border=\"1\" class=\"dataframe\">\n",
       "  <thead>\n",
       "    <tr style=\"text-align: right;\">\n",
       "      <th></th>\n",
       "      <th>product_id</th>\n",
       "      <th>product_name</th>\n",
       "      <th>category</th>\n",
       "      <th>discounted_price</th>\n",
       "      <th>actual_price</th>\n",
       "      <th>discount_percentage</th>\n",
       "      <th>rating</th>\n",
       "      <th>rating_count</th>\n",
       "      <th>about_product</th>\n",
       "      <th>user_id</th>\n",
       "      <th>user_name</th>\n",
       "      <th>review_id</th>\n",
       "      <th>review_title</th>\n",
       "      <th>review_content</th>\n",
       "      <th>img_link</th>\n",
       "      <th>product_link</th>\n",
       "    </tr>\n",
       "  </thead>\n",
       "  <tbody>\n",
       "    <tr>\n",
       "      <th>1279</th>\n",
       "      <td>B08L12N5H1</td>\n",
       "      <td>Eureka Forbes car Vac 100 Watts Powerful Sucti...</td>\n",
       "      <td>Home&amp;Kitchen|Kitchen&amp;HomeAppliances|Vacuum,Cle...</td>\n",
       "      <td>2099.0</td>\n",
       "      <td>2499.0</td>\n",
       "      <td>0.16</td>\n",
       "      <td>|</td>\n",
       "      <td>992</td>\n",
       "      <td>No Installation is provided for this product|1...</td>\n",
       "      <td>AGTDSNT2FKVYEPDPXAA673AIS44A,AER2XFSWNN4LAUCJ5...</td>\n",
       "      <td>Divya,Dr Nefario,Deekshith,Preeti,Prasanth R,P...</td>\n",
       "      <td>R2KKTKM4M9RDVJ,R1O692MZOBTE79,R2WRSEWL56SOS4,R...</td>\n",
       "      <td>Decent product,doesn't pick up sand,Ok ok,Must...</td>\n",
       "      <td>Does the job well,doesn't work on sand. though...</td>\n",
       "      <td>https://m.media-amazon.com/images/W/WEBP_40237...</td>\n",
       "      <td>https://www.amazon.in/Eureka-Forbes-Vacuum-Cle...</td>\n",
       "    </tr>\n",
       "  </tbody>\n",
       "</table>\n",
       "</div>"
      ],
      "text/plain": [
       "      product_id                                       product_name  \\\n",
       "1279  B08L12N5H1  Eureka Forbes car Vac 100 Watts Powerful Sucti...   \n",
       "\n",
       "                                               category  discounted_price  \\\n",
       "1279  Home&Kitchen|Kitchen&HomeAppliances|Vacuum,Cle...            2099.0   \n",
       "\n",
       "      actual_price  discount_percentage rating rating_count  \\\n",
       "1279        2499.0                 0.16      |          992   \n",
       "\n",
       "                                          about_product  \\\n",
       "1279  No Installation is provided for this product|1...   \n",
       "\n",
       "                                                user_id  \\\n",
       "1279  AGTDSNT2FKVYEPDPXAA673AIS44A,AER2XFSWNN4LAUCJ5...   \n",
       "\n",
       "                                              user_name  \\\n",
       "1279  Divya,Dr Nefario,Deekshith,Preeti,Prasanth R,P...   \n",
       "\n",
       "                                              review_id  \\\n",
       "1279  R2KKTKM4M9RDVJ,R1O692MZOBTE79,R2WRSEWL56SOS4,R...   \n",
       "\n",
       "                                           review_title  \\\n",
       "1279  Decent product,doesn't pick up sand,Ok ok,Must...   \n",
       "\n",
       "                                         review_content  \\\n",
       "1279  Does the job well,doesn't work on sand. though...   \n",
       "\n",
       "                                               img_link  \\\n",
       "1279  https://m.media-amazon.com/images/W/WEBP_40237...   \n",
       "\n",
       "                                           product_link  \n",
       "1279  https://www.amazon.in/Eureka-Forbes-Vacuum-Cle...  "
      ]
     },
     "execution_count": 14,
     "metadata": {},
     "output_type": "execute_result"
    }
   ],
   "source": [
    "df.query('rating == \"|\"')"
   ]
  },
  {
   "cell_type": "code",
   "execution_count": 15,
   "id": "40ae9781-9ab1-43ff-94b1-521f164c6db1",
   "metadata": {},
   "outputs": [],
   "source": [
    "df['rating']=df['rating'].astype(str)\n",
    "df['rating']=df['rating'].str.replace('|','3.9').astype(float)\n"
   ]
  },
  {
   "cell_type": "code",
   "execution_count": 17,
   "id": "8ed44328-8773-4f18-9954-0c95b989f053",
   "metadata": {},
   "outputs": [],
   "source": [
    "# df['rating'].value_counts()"
   ]
  },
  {
   "cell_type": "code",
   "execution_count": 30,
   "id": "7a1fe6ea-a515-40be-83b1-08f1b9345f59",
   "metadata": {},
   "outputs": [],
   "source": [
    "df['rating_count']=df['rating_count'].str.replace(',','').astype(float)"
   ]
  },
  {
   "cell_type": "code",
   "execution_count": 34,
   "id": "08ff2a3a-ecc6-4631-9926-beb1aa3765db",
   "metadata": {},
   "outputs": [
    {
     "name": "stdout",
     "output_type": "stream",
     "text": [
      "<class 'pandas.core.frame.DataFrame'>\n",
      "RangeIndex: 1465 entries, 0 to 1464\n",
      "Data columns (total 16 columns):\n",
      " #   Column               Non-Null Count  Dtype  \n",
      "---  ------               --------------  -----  \n",
      " 0   product_id           1465 non-null   object \n",
      " 1   product_name         1465 non-null   object \n",
      " 2   category             1465 non-null   object \n",
      " 3   discounted_price     1465 non-null   float64\n",
      " 4   actual_price         1465 non-null   float64\n",
      " 5   discount_percentage  1465 non-null   float64\n",
      " 6   rating               1465 non-null   float64\n",
      " 7   rating_count         1463 non-null   float64\n",
      " 8   about_product        1465 non-null   object \n",
      " 9   user_id              1465 non-null   object \n",
      " 10  user_name            1465 non-null   object \n",
      " 11  review_id            1465 non-null   object \n",
      " 12  review_title         1465 non-null   object \n",
      " 13  review_content       1465 non-null   object \n",
      " 14  img_link             1465 non-null   object \n",
      " 15  product_link         1465 non-null   object \n",
      "dtypes: float64(5), object(11)\n",
      "memory usage: 183.3+ KB\n"
     ]
    }
   ],
   "source": [
    "df.info()"
   ]
  },
  {
   "cell_type": "code",
   "execution_count": 37,
   "id": "797772d3-93d0-4c1f-a6c5-345966ce0960",
   "metadata": {},
   "outputs": [
    {
     "data": {
      "text/html": [
       "<div>\n",
       "<style scoped>\n",
       "    .dataframe tbody tr th:only-of-type {\n",
       "        vertical-align: middle;\n",
       "    }\n",
       "\n",
       "    .dataframe tbody tr th {\n",
       "        vertical-align: top;\n",
       "    }\n",
       "\n",
       "    .dataframe thead th {\n",
       "        text-align: right;\n",
       "    }\n",
       "</style>\n",
       "<table border=\"1\" class=\"dataframe\">\n",
       "  <thead>\n",
       "    <tr style=\"text-align: right;\">\n",
       "      <th></th>\n",
       "      <th>discounted_price</th>\n",
       "      <th>actual_price</th>\n",
       "      <th>discount_percentage</th>\n",
       "      <th>rating</th>\n",
       "      <th>rating_count</th>\n",
       "    </tr>\n",
       "  </thead>\n",
       "  <tbody>\n",
       "    <tr>\n",
       "      <th>count</th>\n",
       "      <td>1465.000000</td>\n",
       "      <td>1465.000000</td>\n",
       "      <td>1465.000000</td>\n",
       "      <td>1465.000000</td>\n",
       "      <td>1463.000000</td>\n",
       "    </tr>\n",
       "    <tr>\n",
       "      <th>mean</th>\n",
       "      <td>3125.310874</td>\n",
       "      <td>5444.990635</td>\n",
       "      <td>0.476915</td>\n",
       "      <td>4.096451</td>\n",
       "      <td>18295.541353</td>\n",
       "    </tr>\n",
       "    <tr>\n",
       "      <th>std</th>\n",
       "      <td>6944.304394</td>\n",
       "      <td>10874.826864</td>\n",
       "      <td>0.216359</td>\n",
       "      <td>0.291620</td>\n",
       "      <td>42753.864952</td>\n",
       "    </tr>\n",
       "    <tr>\n",
       "      <th>min</th>\n",
       "      <td>39.000000</td>\n",
       "      <td>39.000000</td>\n",
       "      <td>0.000000</td>\n",
       "      <td>2.000000</td>\n",
       "      <td>2.000000</td>\n",
       "    </tr>\n",
       "    <tr>\n",
       "      <th>25%</th>\n",
       "      <td>325.000000</td>\n",
       "      <td>800.000000</td>\n",
       "      <td>0.320000</td>\n",
       "      <td>4.000000</td>\n",
       "      <td>1186.000000</td>\n",
       "    </tr>\n",
       "    <tr>\n",
       "      <th>50%</th>\n",
       "      <td>799.000000</td>\n",
       "      <td>1650.000000</td>\n",
       "      <td>0.500000</td>\n",
       "      <td>4.100000</td>\n",
       "      <td>5179.000000</td>\n",
       "    </tr>\n",
       "    <tr>\n",
       "      <th>75%</th>\n",
       "      <td>1999.000000</td>\n",
       "      <td>4295.000000</td>\n",
       "      <td>0.630000</td>\n",
       "      <td>4.300000</td>\n",
       "      <td>17336.500000</td>\n",
       "    </tr>\n",
       "    <tr>\n",
       "      <th>max</th>\n",
       "      <td>77990.000000</td>\n",
       "      <td>139900.000000</td>\n",
       "      <td>0.940000</td>\n",
       "      <td>5.000000</td>\n",
       "      <td>426973.000000</td>\n",
       "    </tr>\n",
       "  </tbody>\n",
       "</table>\n",
       "</div>"
      ],
      "text/plain": [
       "       discounted_price   actual_price  discount_percentage       rating  \\\n",
       "count       1465.000000    1465.000000          1465.000000  1465.000000   \n",
       "mean        3125.310874    5444.990635             0.476915     4.096451   \n",
       "std         6944.304394   10874.826864             0.216359     0.291620   \n",
       "min           39.000000      39.000000             0.000000     2.000000   \n",
       "25%          325.000000     800.000000             0.320000     4.000000   \n",
       "50%          799.000000    1650.000000             0.500000     4.100000   \n",
       "75%         1999.000000    4295.000000             0.630000     4.300000   \n",
       "max        77990.000000  139900.000000             0.940000     5.000000   \n",
       "\n",
       "        rating_count  \n",
       "count    1463.000000  \n",
       "mean    18295.541353  \n",
       "std     42753.864952  \n",
       "min         2.000000  \n",
       "25%      1186.000000  \n",
       "50%      5179.000000  \n",
       "75%     17336.500000  \n",
       "max    426973.000000  "
      ]
     },
     "execution_count": 37,
     "metadata": {},
     "output_type": "execute_result"
    }
   ],
   "source": [
    "df.describe()"
   ]
  },
  {
   "cell_type": "code",
   "execution_count": 39,
   "id": "a51d2d1b-830e-42b7-a7e2-e72201dc630d",
   "metadata": {},
   "outputs": [
    {
     "data": {
      "text/plain": [
       "rating_count           2\n",
       "product_id             0\n",
       "product_name           0\n",
       "category               0\n",
       "discounted_price       0\n",
       "actual_price           0\n",
       "discount_percentage    0\n",
       "rating                 0\n",
       "about_product          0\n",
       "user_id                0\n",
       "user_name              0\n",
       "review_id              0\n",
       "review_title           0\n",
       "review_content         0\n",
       "img_link               0\n",
       "product_link           0\n",
       "dtype: int64"
      ]
     },
     "execution_count": 39,
     "metadata": {},
     "output_type": "execute_result"
    }
   ],
   "source": [
    "df.isnull().sum().sort_values(ascending= False)"
   ]
  },
  {
   "cell_type": "code",
   "execution_count": 41,
   "id": "208a6407-c85b-4cf8-970a-6f5244d9a281",
   "metadata": {},
   "outputs": [
    {
     "data": {
      "text/plain": [
       "rating_count           0.14\n",
       "product_id             0.00\n",
       "product_name           0.00\n",
       "category               0.00\n",
       "discounted_price       0.00\n",
       "actual_price           0.00\n",
       "discount_percentage    0.00\n",
       "rating                 0.00\n",
       "about_product          0.00\n",
       "user_id                0.00\n",
       "user_name              0.00\n",
       "review_id              0.00\n",
       "review_title           0.00\n",
       "review_content         0.00\n",
       "img_link               0.00\n",
       "product_link           0.00\n",
       "dtype: float64"
      ]
     },
     "execution_count": 41,
     "metadata": {},
     "output_type": "execute_result"
    }
   ],
   "source": [
    "#finding the misssing values %\n",
    "round(df.isnull().sum()/len(df)*100,2).sort_values(ascending=False)"
   ]
  },
  {
   "cell_type": "code",
   "execution_count": 43,
   "id": "0cf3e9fb-54eb-4526-8992-730b852caf6b",
   "metadata": {},
   "outputs": [
    {
     "data": {
      "text/plain": [
       "2"
      ]
     },
     "execution_count": 43,
     "metadata": {},
     "output_type": "execute_result"
    }
   ],
   "source": [
    "df.isnull().sum().sum()"
   ]
  },
  {
   "cell_type": "code",
   "execution_count": 45,
   "id": "64cc5af4-f78b-4290-9f8e-4f1a7acfb3e4",
   "metadata": {},
   "outputs": [
    {
     "data": {
      "text/plain": [
       "Text(0.5, 1.0, 'Percentage of the missing values in each Column')"
      ]
     },
     "execution_count": 45,
     "metadata": {},
     "output_type": "execute_result"
    },
    {
     "data": {
      "image/png": "[encoded data removed]",
      "text/plain": [
       "<Figure size 2200x1000 with 1 Axes>"
      ]
     },
     "metadata": {},
     "output_type": "display_data"
    }
   ],
   "source": [
    "plt.figure(figsize=(22,10))\n",
    "missing_percentage=df.isnull().sum()/len(df)*100\n",
    "missing_percentage.plot(kind='bar')\n",
    "plt.xlabel('Cloumns')\n",
    "plt.ylabel('percentage')\n",
    "plt.title('Percentage of the missing values in each Column')"
   ]
  },
  {
   "cell_type": "code",
   "execution_count": 46,
   "id": "3bb15039-69ae-4c1f-9568-fd4c8e04099b",
   "metadata": {},
   "outputs": [
    {
     "data": {
      "text/html": [
       "<div>\n",
       "<style scoped>\n",
       "    .dataframe tbody tr th:only-of-type {\n",
       "        vertical-align: middle;\n",
       "    }\n",
       "\n",
       "    .dataframe tbody tr th {\n",
       "        vertical-align: top;\n",
       "    }\n",
       "\n",
       "    .dataframe thead th {\n",
       "        text-align: right;\n",
       "    }\n",
       "</style>\n",
       "<table border=\"1\" class=\"dataframe\">\n",
       "  <thead>\n",
       "    <tr style=\"text-align: right;\">\n",
       "      <th></th>\n",
       "      <th>product_id</th>\n",
       "      <th>product_name</th>\n",
       "      <th>category</th>\n",
       "      <th>discounted_price</th>\n",
       "      <th>actual_price</th>\n",
       "      <th>discount_percentage</th>\n",
       "      <th>rating</th>\n",
       "      <th>rating_count</th>\n",
       "      <th>about_product</th>\n",
       "      <th>user_id</th>\n",
       "      <th>user_name</th>\n",
       "      <th>review_id</th>\n",
       "      <th>review_title</th>\n",
       "      <th>review_content</th>\n",
       "      <th>img_link</th>\n",
       "      <th>product_link</th>\n",
       "    </tr>\n",
       "  </thead>\n",
       "  <tbody>\n",
       "    <tr>\n",
       "      <th>282</th>\n",
       "      <td>B0B94JPY2N</td>\n",
       "      <td>Amazon Brand - Solimo 65W Fast Charging Braide...</td>\n",
       "      <td>Computers&amp;Accessories|Accessories&amp;Peripherals|...</td>\n",
       "      <td>199.0</td>\n",
       "      <td>999.0</td>\n",
       "      <td>0.80</td>\n",
       "      <td>3.0</td>\n",
       "      <td>NaN</td>\n",
       "      <td>USB C to C Cable: This cable has type C connec...</td>\n",
       "      <td>AE7CFHY23VAJT2FI4NZKKP6GS2UQ</td>\n",
       "      <td>Pranav</td>\n",
       "      <td>RUB7U91HVZ30</td>\n",
       "      <td>The cable works but is not 65W as advertised</td>\n",
       "      <td>I have a pd supported car charger and I bought...</td>\n",
       "      <td>https://m.media-amazon.com/images/W/WEBP_40237...</td>\n",
       "      <td>https://www.amazon.in/Amazon-Brand-Charging-Su...</td>\n",
       "    </tr>\n",
       "    <tr>\n",
       "      <th>324</th>\n",
       "      <td>B0BQRJ3C47</td>\n",
       "      <td>REDTECH USB-C to Lightning Cable 3.3FT, [Apple...</td>\n",
       "      <td>Computers&amp;Accessories|Accessories&amp;Peripherals|...</td>\n",
       "      <td>249.0</td>\n",
       "      <td>999.0</td>\n",
       "      <td>0.75</td>\n",
       "      <td>5.0</td>\n",
       "      <td>NaN</td>\n",
       "      <td>💎[The Fastest Charge] - This iPhone USB C cabl...</td>\n",
       "      <td>AGJC5O5H5BBXWUV7WRIEIOOR3TVQ</td>\n",
       "      <td>Abdul Gafur</td>\n",
       "      <td>RQXD5SAMMPC6L</td>\n",
       "      <td>Awesome Product</td>\n",
       "      <td>Quick delivery.Awesome ProductPacking was good...</td>\n",
       "      <td>https://m.media-amazon.com/images/I/31-q0xhaTA...</td>\n",
       "      <td>https://www.amazon.in/REDTECH-Lightning-Certif...</td>\n",
       "    </tr>\n",
       "  </tbody>\n",
       "</table>\n",
       "</div>"
      ],
      "text/plain": [
       "     product_id                                       product_name  \\\n",
       "282  B0B94JPY2N  Amazon Brand - Solimo 65W Fast Charging Braide...   \n",
       "324  B0BQRJ3C47  REDTECH USB-C to Lightning Cable 3.3FT, [Apple...   \n",
       "\n",
       "                                              category  discounted_price  \\\n",
       "282  Computers&Accessories|Accessories&Peripherals|...             199.0   \n",
       "324  Computers&Accessories|Accessories&Peripherals|...             249.0   \n",
       "\n",
       "     actual_price  discount_percentage  rating  rating_count  \\\n",
       "282         999.0                 0.80     3.0           NaN   \n",
       "324         999.0                 0.75     5.0           NaN   \n",
       "\n",
       "                                         about_product  \\\n",
       "282  USB C to C Cable: This cable has type C connec...   \n",
       "324  💎[The Fastest Charge] - This iPhone USB C cabl...   \n",
       "\n",
       "                          user_id    user_name      review_id  \\\n",
       "282  AE7CFHY23VAJT2FI4NZKKP6GS2UQ       Pranav   RUB7U91HVZ30   \n",
       "324  AGJC5O5H5BBXWUV7WRIEIOOR3TVQ  Abdul Gafur  RQXD5SAMMPC6L   \n",
       "\n",
       "                                     review_title  \\\n",
       "282  The cable works but is not 65W as advertised   \n",
       "324                               Awesome Product   \n",
       "\n",
       "                                        review_content  \\\n",
       "282  I have a pd supported car charger and I bought...   \n",
       "324  Quick delivery.Awesome ProductPacking was good...   \n",
       "\n",
       "                                              img_link  \\\n",
       "282  https://m.media-amazon.com/images/W/WEBP_40237...   \n",
       "324  https://m.media-amazon.com/images/I/31-q0xhaTA...   \n",
       "\n",
       "                                          product_link  \n",
       "282  https://www.amazon.in/Amazon-Brand-Charging-Su...  \n",
       "324  https://www.amazon.in/REDTECH-Lightning-Certif...  "
      ]
     },
     "execution_count": 46,
     "metadata": {},
     "output_type": "execute_result"
    }
   ],
   "source": [
    "df[df['rating_count'].isnull()]"
   ]
  },
  {
   "cell_type": "code",
   "execution_count": 47,
   "id": "7cc4f419-0cee-49e2-8f5a-57892da88622",
   "metadata": {},
   "outputs": [],
   "source": [
    "df['rating_count']=df.rating_count.fillna(value=df['rating_count'].median())"
   ]
  },
  {
   "cell_type": "code",
   "execution_count": 48,
   "id": "ddafcae4-6938-41ec-a995-767cf7eec22c",
   "metadata": {},
   "outputs": [
    {
     "data": {
      "text/plain": [
       "product_id             0\n",
       "product_name           0\n",
       "category               0\n",
       "discounted_price       0\n",
       "actual_price           0\n",
       "discount_percentage    0\n",
       "rating                 0\n",
       "rating_count           0\n",
       "about_product          0\n",
       "user_id                0\n",
       "user_name              0\n",
       "review_id              0\n",
       "review_title           0\n",
       "review_content         0\n",
       "img_link               0\n",
       "product_link           0\n",
       "dtype: int64"
      ]
     },
     "execution_count": 48,
     "metadata": {},
     "output_type": "execute_result"
    }
   ],
   "source": [
    "df.isnull().sum().sort_values(ascending=False)"
   ]
  },
  {
   "cell_type": "markdown",
   "id": "02eca382-56ac-4546-b567-6915ef0faab3",
   "metadata": {},
   "source": [
    "**cleared null values from the dataset**"
   ]
  },
  {
   "cell_type": "code",
   "execution_count": 54,
   "id": "160a1aa6-41f0-49e0-acf3-73ae19a9bfc8",
   "metadata": {},
   "outputs": [
    {
     "data": {
      "text/plain": [
       "0"
      ]
     },
     "execution_count": 54,
     "metadata": {},
     "output_type": "execute_result"
    }
   ],
   "source": [
    "duplicate=df.duplicated()\n",
    "duplicate.sum()\n",
    "#NO duplicate found"
   ]
  },
  {
   "cell_type": "code",
   "execution_count": 120,
   "id": "1f6ff120-5adc-4f83-9713-ca6732219aae",
   "metadata": {},
   "outputs": [
    {
     "name": "stdout",
     "output_type": "stream",
     "text": [
      "Total Rvenue: 71922098825.27\n",
      "Average_revenue 49093582.815883964\n"
     ]
    },
    {
     "data": {
      "image/png": "[encoded data removed]",
      "text/plain": [
       "<Figure size 1000x600 with 1 Axes>"
      ]
     },
     "metadata": {},
     "output_type": "display_data"
    }
   ],
   "source": [
    "df['revenue']=df['rating_count']* df['discounted_price']\n",
    "total_revenue = df['revenue'].sum()\n",
    "average_revenue = df['revenue'].mean()\n",
    "print('Total Rvenue:',total_revenue)\n",
    "print('Average_revenue',average_revenue)\n",
    "plt.figure(figsize=(10,6))\n",
    "sns.histplot(df['discounted_price'], kde=True)\n",
    "plt.title('Distribution of dicounted price')\n",
    "plt.show()"
   ]
  },
  {
   "cell_type": "code",
   "execution_count": 66,
   "id": "59b42c23-ea74-4c12-bb07-c60a6d2a7e8e",
   "metadata": {},
   "outputs": [
    {
     "data": {
      "text/plain": [
       "698.68"
      ]
     },
     "execution_count": 66,
     "metadata": {},
     "output_type": "execute_result"
    }
   ],
   "source": [
    "df['discount_percentage'].sum()"
   ]
  },
  {
   "cell_type": "code",
   "execution_count": 70,
   "id": "8e298d96-f3aa-470d-9be1-ae654eebe61f",
   "metadata": {},
   "outputs": [
    {
     "name": "stdout",
     "output_type": "stream",
     "text": [
      "     product_id                                       product_name  \\\n",
      "12   B07KSMBL2H  AmazonBasics Flexible Premium HDMI Cable (Blac...   \n",
      "65   B014I8SX4Y  Amazon Basics High-Speed HDMI Cable, 6 Feet (2...   \n",
      "47   B014I8SSD0  Amazon Basics High-Speed HDMI Cable, 6 Feet - ...   \n",
      "684  B07KSMBL2H  AmazonBasics Flexible Premium HDMI Cable (Blac...   \n",
      "400  B07GQD4K6L  boAt Bassheads 100 in Ear Wired Earphones with...   \n",
      "352  B07GPXXNNG  boAt Bassheads 100 in Ear Wired Earphones with...   \n",
      "584  B071Z8M4KX  boAt BassHeads 100 in-Ear Wired Headphones wit...   \n",
      "370  B09GFPVD9Y  Redmi 9 Activ (Carbon Black, 4GB RAM, 64GB Sto...   \n",
      "371  B09GFLXVH9  Redmi 9A Sport (Coral Green, 2GB RAM, 32GB Sto...   \n",
      "473  B09GFM8CGS  Redmi 9A Sport (Carbon Black, 2GB RAM, 32GB St...   \n",
      "\n",
      "     rating_count  \n",
      "12       426973.0  \n",
      "65       426973.0  \n",
      "47       426973.0  \n",
      "684      426972.0  \n",
      "400      363713.0  \n",
      "352      363713.0  \n",
      "584      363711.0  \n",
      "370      313836.0  \n",
      "371      313836.0  \n",
      "473      313832.0  \n"
     ]
    }
   ],
   "source": [
    "top_selling_products = df.sort_values(by='rating_count', ascending=False).head(10) \n",
    "print(top_selling_products[['product_id', 'product_name', 'rating_count']])"
   ]
  },
  {
   "cell_type": "markdown",
   "id": "6d68af97-6d30-4091-a802-0453314095d7",
   "metadata": {},
   "source": [
    "**Distribution of Rating**"
   ]
  },
  {
   "cell_type": "code",
   "execution_count": 124,
   "id": "f7f7dccf-f490-4683-a54a-ab04824f0870",
   "metadata": {},
   "outputs": [
    {
     "data": {
      "text/plain": [
       "Text(0, 0.5, 'frequency')"
      ]
     },
     "execution_count": 124,
     "metadata": {},
     "output_type": "execute_result"
    },
    {
     "data": {
      "image/png": "[encoded data removed]",
      "text/plain": [
       "<Figure size 2200x1000 with 1 Axes>"
      ]
     },
     "metadata": {},
     "output_type": "display_data"
    }
   ],
   "source": [
    "plt.figure(figsize=(22,10))\n",
    "sns.histplot(df['rating'],kde=True)\n",
    "plt.title('Distribution of rating')\n",
    "plt.xlabel('rating')\n",
    "plt.ylabel('frequency')"
   ]
  },
  {
   "cell_type": "markdown",
   "id": "19d0c540-1463-4a14-8871-3c1fd73a0d3e",
   "metadata": {},
   "source": [
    "**Correlation Analyisis**"
   ]
  },
  {
   "cell_type": "code",
   "execution_count": 141,
   "id": "5e94fbfc-fa76-4fc7-8652-1a9f2e8a3515",
   "metadata": {},
   "outputs": [
    {
     "name": "stdout",
     "output_type": "stream",
     "text": [
      "                     discount_percentage  rating_count   revenue\n",
      "discount_percentage             1.000000      0.011097 -0.193825\n",
      "rating_count                    0.011097      1.000000  0.416746\n",
      "revenue                        -0.193825      0.416746  1.000000\n"
     ]
    },
    {
     "data": {
      "image/png": "[encoded data removed]",
      "text/plain": [
       "<Figure size 1000x700 with 2 Axes>"
      ]
     },
     "metadata": {},
     "output_type": "display_data"
    }
   ],
   "source": [
    "correlation=df[['discount_percentage','rating_count','revenue']].corr()\n",
    "print(correlation)\n",
    "\n",
    "plt.figure(figsize=(10,7))\n",
    "sns.heatmap(correlation,annot=True,cmap='coolwarm')\n",
    "plt.title('Correlation matrix')\n",
    "plt.show()"
   ]
  },
  {
   "cell_type": "markdown",
   "id": "b90d87f6-77a3-47e3-8202-835343fb2de7",
   "metadata": {},
   "source": [
    "**Effect pf Discount on Sales**"
   ]
  },
  {
   "cell_type": "code",
   "execution_count": 152,
   "id": "3ca0a792-9b76-4d9b-9644-7ea6a45dd76f",
   "metadata": {},
   "outputs": [
    {
     "data": {
      "text/plain": [
       "Text(0, 0.5, 'Sales Volume')"
      ]
     },
     "execution_count": 152,
     "metadata": {},
     "output_type": "execute_result"
    },
    {
     "data": {
      "image/png": "[encoded data removed]",
      "text/plain": [
       "<Figure size 1000x600 with 1 Axes>"
      ]
     },
     "metadata": {},
     "output_type": "display_data"
    }
   ],
   "source": [
    "plt.figure(figsize=(10,6))\n",
    "sns.scatterplot(x='discount_percentage',y='rating_count',data=df)\n",
    "plt.title('Discount percentage vs. Sales volume')\n",
    "plt.xlabel('Discount percentage')\n",
    "plt.ylabel('Sales Volume')"
   ]
  },
  {
   "cell_type": "markdown",
   "id": "d70842cd-f40b-4193-9c5b-da3ac5ac7827",
   "metadata": {},
   "source": [
    "**Catagory Analysis**"
   ]
  },
  {
   "cell_type": "code",
   "execution_count": 165,
   "id": "c7233028-c819-4fec-bd4d-a68bd8e84ebd",
   "metadata": {},
   "outputs": [
    {
     "data": {
      "text/html": [
       "<div>\n",
       "<style scoped>\n",
       "    .dataframe tbody tr th:only-of-type {\n",
       "        vertical-align: middle;\n",
       "    }\n",
       "\n",
       "    .dataframe tbody tr th {\n",
       "        vertical-align: top;\n",
       "    }\n",
       "\n",
       "    .dataframe thead th {\n",
       "        text-align: right;\n",
       "    }\n",
       "</style>\n",
       "<table border=\"1\" class=\"dataframe\">\n",
       "  <thead>\n",
       "    <tr style=\"text-align: right;\">\n",
       "      <th></th>\n",
       "      <th>rating_count</th>\n",
       "      <th>revenue</th>\n",
       "    </tr>\n",
       "    <tr>\n",
       "      <th>category</th>\n",
       "      <th></th>\n",
       "      <th></th>\n",
       "    </tr>\n",
       "  </thead>\n",
       "  <tbody>\n",
       "    <tr>\n",
       "      <th>Electronics|Mobiles&amp;Accessories|Smartphones&amp;BasicMobiles|Smartphones</th>\n",
       "      <td>2493269.0</td>\n",
       "      <td>2.935870e+10</td>\n",
       "    </tr>\n",
       "    <tr>\n",
       "      <th>Electronics|HomeTheater,TV&amp;Video|Televisions|SmartTelevisions</th>\n",
       "      <td>760279.0</td>\n",
       "      <td>1.740790e+10</td>\n",
       "    </tr>\n",
       "    <tr>\n",
       "      <th>Electronics|WearableTechnology|SmartWatches</th>\n",
       "      <td>1644476.0</td>\n",
       "      <td>3.581338e+09</td>\n",
       "    </tr>\n",
       "    <tr>\n",
       "      <th>Electronics|Headphones,Earbuds&amp;Accessories|Headphones|In-Ear</th>\n",
       "      <td>4204939.0</td>\n",
       "      <td>3.072251e+09</td>\n",
       "    </tr>\n",
       "    <tr>\n",
       "      <th>Computers&amp;Accessories|Accessories&amp;Peripherals|Cables&amp;Accessories|Cables|USBCables</th>\n",
       "      <td>3558174.0</td>\n",
       "      <td>1.173915e+09</td>\n",
       "    </tr>\n",
       "    <tr>\n",
       "      <th>...</th>\n",
       "      <td>...</td>\n",
       "      <td>...</td>\n",
       "    </tr>\n",
       "    <tr>\n",
       "      <th>Home&amp;Kitchen|Kitchen&amp;HomeAppliances|Coffee,Tea&amp;Espresso|CoffeeGrinders|ElectricGrinders</th>\n",
       "      <td>478.0</td>\n",
       "      <td>1.166320e+05</td>\n",
       "    </tr>\n",
       "    <tr>\n",
       "      <th>Computers&amp;Accessories|Components|InternalHardDrives</th>\n",
       "      <td>362.0</td>\n",
       "      <td>7.203800e+04</td>\n",
       "    </tr>\n",
       "    <tr>\n",
       "      <th>Electronics|Headphones,Earbuds&amp;Accessories|Earpads</th>\n",
       "      <td>594.0</td>\n",
       "      <td>5.880600e+04</td>\n",
       "    </tr>\n",
       "    <tr>\n",
       "      <th>OfficeProducts|OfficePaperProducts|Paper|Copy&amp;PrintingPaper|ColouredPaper</th>\n",
       "      <td>388.0</td>\n",
       "      <td>3.841200e+04</td>\n",
       "    </tr>\n",
       "    <tr>\n",
       "      <th>Electronics|Mobiles&amp;Accessories|MobileAccessories|Décor|PhoneCharms</th>\n",
       "      <td>305.0</td>\n",
       "      <td>3.019500e+04</td>\n",
       "    </tr>\n",
       "  </tbody>\n",
       "</table>\n",
       "<p>211 rows × 2 columns</p>\n",
       "</div>"
      ],
      "text/plain": [
       "                                                    rating_count       revenue\n",
       "category                                                                      \n",
       "Electronics|Mobiles&Accessories|Smartphones&Bas...     2493269.0  2.935870e+10\n",
       "Electronics|HomeTheater,TV&Video|Televisions|Sm...      760279.0  1.740790e+10\n",
       "Electronics|WearableTechnology|SmartWatches            1644476.0  3.581338e+09\n",
       "Electronics|Headphones,Earbuds&Accessories|Head...     4204939.0  3.072251e+09\n",
       "Computers&Accessories|Accessories&Peripherals|C...     3558174.0  1.173915e+09\n",
       "...                                                          ...           ...\n",
       "Home&Kitchen|Kitchen&HomeAppliances|Coffee,Tea&...         478.0  1.166320e+05\n",
       "Computers&Accessories|Components|InternalHardDr...         362.0  7.203800e+04\n",
       "Electronics|Headphones,Earbuds&Accessories|Earpads         594.0  5.880600e+04\n",
       "OfficeProducts|OfficePaperProducts|Paper|Copy&P...         388.0  3.841200e+04\n",
       "Electronics|Mobiles&Accessories|MobileAccessori...         305.0  3.019500e+04\n",
       "\n",
       "[211 rows x 2 columns]"
      ]
     },
     "execution_count": 165,
     "metadata": {},
     "output_type": "execute_result"
    }
   ],
   "source": [
    "category_sales=df.groupby('category').agg({'rating_count':'sum','revenue':'sum'}).sort_values(by='revenue',ascending=False)\n",
    "category_sales"
   ]
  },
  {
   "cell_type": "markdown",
   "id": "96a00b86-eb09-4a2b-bb7b-ee71e4d0c0f5",
   "metadata": {},
   "source": [
    "**sentiment Analysis on review_content**\n"
   ]
  },
  {
   "cell_type": "code",
   "execution_count": 178,
   "id": "189da187-8c91-4464-accd-1df88a5fbcd4",
   "metadata": {},
   "outputs": [
    {
     "name": "stderr",
     "output_type": "stream",
     "text": [
      "\n",
      "[notice] A new release of pip is available: 24.2 -> 24.3.1\n",
      "[notice] To update, run: python.exe -m pip install --upgrade pip\n"
     ]
    },
    {
     "name": "stdout",
     "output_type": "stream",
     "text": [
      "Requirement already satisfied: textblob in c:\\users\\vasud\\anaconda3\\lib\\site-packages (0.18.0.post0)\n",
      "Requirement already satisfied: nltk>=3.8 in c:\\users\\vasud\\anaconda3\\lib\\site-packages (from textblob) (3.8.1)\n",
      "Requirement already satisfied: click in c:\\users\\vasud\\appdata\\roaming\\python\\python312\\site-packages (from nltk>=3.8->textblob) (8.1.7)\n",
      "Requirement already satisfied: joblib in c:\\users\\vasud\\anaconda3\\lib\\site-packages (from nltk>=3.8->textblob) (1.4.2)\n",
      "Requirement already satisfied: regex>=2021.8.3 in c:\\users\\vasud\\anaconda3\\lib\\site-packages (from nltk>=3.8->textblob) (2023.10.3)\n",
      "Requirement already satisfied: tqdm in c:\\users\\vasud\\anaconda3\\lib\\site-packages (from nltk>=3.8->textblob) (4.66.4)\n",
      "Requirement already satisfied: colorama in c:\\users\\vasud\\appdata\\roaming\\python\\python312\\site-packages (from click->nltk>=3.8->textblob) (0.4.6)\n"
     ]
    }
   ],
   "source": [
    "!pip install textblob\n",
    "\n",
    "from textblob import TextBlob\n"
   ]
  },
  {
   "cell_type": "code",
   "execution_count": 180,
   "id": "3cd79cc7-0bb6-455a-a02f-37d34e9f6f38",
   "metadata": {},
   "outputs": [],
   "source": [
    "df['review_sentiment']=df['review_content'].apply(lambda x: TextBlob(x).sentiment.polarity)"
   ]
  },
  {
   "cell_type": "code",
   "execution_count": 182,
   "id": "64a041a6-6a7f-41c3-b637-3ecf9381354d",
   "metadata": {},
   "outputs": [
    {
     "data": {
      "text/html": [
       "<div>\n",
       "<style scoped>\n",
       "    .dataframe tbody tr th:only-of-type {\n",
       "        vertical-align: middle;\n",
       "    }\n",
       "\n",
       "    .dataframe tbody tr th {\n",
       "        vertical-align: top;\n",
       "    }\n",
       "\n",
       "    .dataframe thead th {\n",
       "        text-align: right;\n",
       "    }\n",
       "</style>\n",
       "<table border=\"1\" class=\"dataframe\">\n",
       "  <thead>\n",
       "    <tr style=\"text-align: right;\">\n",
       "      <th></th>\n",
       "      <th>review_content</th>\n",
       "      <th>review_sentiment</th>\n",
       "    </tr>\n",
       "  </thead>\n",
       "  <tbody>\n",
       "    <tr>\n",
       "      <th>0</th>\n",
       "      <td>Looks durable Charging is fine tooNo complains...</td>\n",
       "      <td>0.481944</td>\n",
       "    </tr>\n",
       "    <tr>\n",
       "      <th>1</th>\n",
       "      <td>I ordered this cable to connect my phone to An...</td>\n",
       "      <td>0.274318</td>\n",
       "    </tr>\n",
       "    <tr>\n",
       "      <th>2</th>\n",
       "      <td>Not quite durable and sturdy,https://m.media-a...</td>\n",
       "      <td>0.600000</td>\n",
       "    </tr>\n",
       "    <tr>\n",
       "      <th>3</th>\n",
       "      <td>Good product,long wire,Charges good,Nice,I bou...</td>\n",
       "      <td>0.240370</td>\n",
       "    </tr>\n",
       "    <tr>\n",
       "      <th>4</th>\n",
       "      <td>Bought this instead of original apple, does th...</td>\n",
       "      <td>0.262740</td>\n",
       "    </tr>\n",
       "    <tr>\n",
       "      <th>...</th>\n",
       "      <td>...</td>\n",
       "      <td>...</td>\n",
       "    </tr>\n",
       "    <tr>\n",
       "      <th>1460</th>\n",
       "      <td>I received product without spanner,Excellent p...</td>\n",
       "      <td>0.323810</td>\n",
       "    </tr>\n",
       "    <tr>\n",
       "      <th>1461</th>\n",
       "      <td>ok,got everything as mentioned but the measuri...</td>\n",
       "      <td>0.142083</td>\n",
       "    </tr>\n",
       "    <tr>\n",
       "      <th>1462</th>\n",
       "      <td>plastic but cool body ,u have to find sturdy s...</td>\n",
       "      <td>0.212857</td>\n",
       "    </tr>\n",
       "    <tr>\n",
       "      <th>1463</th>\n",
       "      <td>I have installed this in my kitchen working fi...</td>\n",
       "      <td>-0.170167</td>\n",
       "    </tr>\n",
       "    <tr>\n",
       "      <th>1464</th>\n",
       "      <td>It does it job perfectly..only issue is temp c...</td>\n",
       "      <td>0.318137</td>\n",
       "    </tr>\n",
       "  </tbody>\n",
       "</table>\n",
       "<p>1465 rows × 2 columns</p>\n",
       "</div>"
      ],
      "text/plain": [
       "                                         review_content  review_sentiment\n",
       "0     Looks durable Charging is fine tooNo complains...          0.481944\n",
       "1     I ordered this cable to connect my phone to An...          0.274318\n",
       "2     Not quite durable and sturdy,https://m.media-a...          0.600000\n",
       "3     Good product,long wire,Charges good,Nice,I bou...          0.240370\n",
       "4     Bought this instead of original apple, does th...          0.262740\n",
       "...                                                 ...               ...\n",
       "1460  I received product without spanner,Excellent p...          0.323810\n",
       "1461  ok,got everything as mentioned but the measuri...          0.142083\n",
       "1462  plastic but cool body ,u have to find sturdy s...          0.212857\n",
       "1463  I have installed this in my kitchen working fi...         -0.170167\n",
       "1464  It does it job perfectly..only issue is temp c...          0.318137\n",
       "\n",
       "[1465 rows x 2 columns]"
      ]
     },
     "execution_count": 182,
     "metadata": {},
     "output_type": "execute_result"
    }
   ],
   "source": [
    "df[['review_content','review_sentiment']]"
   ]
  },
  {
   "cell_type": "code",
   "execution_count": null,
   "id": "7556332d-3ac1-4b2e-b7e4-4268efcef125",
   "metadata": {},
   "outputs": [],
   "source": []
  }
 ],
 "metadata": {
  "kernelspec": {
   "display_name": "Python 3 (ipykernel)",
   "language": "python",
   "name": "python3"
  },
  "language_info": {
   "codemirror_mode": {
    "name": "ipython",
    "version": 3
   },
   "file_extension": ".py",
   "mimetype": "text/x-python",
   "name": "python",
   "nbconvert_exporter": "python",
   "pygments_lexer": "ipython3",
   "version": "3.12.4"
  },
  "widgets": {
   "application/vnd.jupyter.widget-state+json": {
    "state": {},
    "version_major": 2,
    "version_minor": 0
   }
  }
 },
 "nbformat": 4,
 "nbformat_minor": 5
}
